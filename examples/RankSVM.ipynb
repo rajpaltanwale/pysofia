{
 "cells": [
  {
   "cell_type": "markdown",
   "metadata": {},
   "source": [
    "Example usage of RankSVM using pysofia\n",
    "======================================"
   ]
  },
  {
   "cell_type": "code",
   "execution_count": 1,
   "metadata": {
    "collapsed": false
   },
   "outputs": [],
   "source": [
    "# %pylab inline\n",
    "# replaced - from sklearn import cross_validation\n",
    "%matplotlib inline\n",
    "from sklearn import model_selection\n",
    "from pysofia.compat import RankSVM, RankSVMCV"
   ]
  },
  {
   "cell_type": "code",
   "execution_count": 2,
   "metadata": {
    "collapsed": true
   },
   "outputs": [],
   "source": [
    "import numpy as np\n",
    "\n",
    "n_samples, n_features = 500, 2000\n",
    "X = np.random.randn(n_samples, n_features)\n",
    "w = np.random.randn(n_features)\n",
    "# replaced - y = (X.dot(w) + np.random.randn(n_samples)).astype(np.int)\n",
    "y = (X.dot(w) + np.random.randn(n_samples)).astype(int)"
   ]
  },
  {
   "cell_type": "code",
   "execution_count": 3,
   "metadata": {
    "collapsed": false
   },
   "outputs": [
    {
     "name": "stdout",
     "output_type": "stream",
     "text": [
      "[0.14585784 0.06590333 0.10268387 0.07173285 0.06969234]\n",
      "0.09117404764690064\n"
     ]
    }
   ],
   "source": [
    "scores = model_selection.cross_val_score(RankSVM(max_iter=200), X, y)\n",
    "print(scores)\n",
    "print(np.mean(scores))"
   ]
  },
  {
   "cell_type": "code",
   "execution_count": 4,
   "metadata": {
    "collapsed": false
   },
   "outputs": [
    {
     "name": "stdout",
     "output_type": "stream",
     "text": [
      "[0.24891178 0.24191593 0.26795023 0.14873422 0.297408  ]\n",
      "0.24098403148335032\n"
     ]
    }
   ],
   "source": [
    "scores = model_selection.cross_val_score(RankSVMCV(max_iter=200), X, y)\n",
    "print(scores)\n",
    "print(np.mean(scores))"
   ]
  },
  {
   "cell_type": "code",
   "execution_count": null,
   "metadata": {
    "collapsed": true
   },
   "outputs": [],
   "source": []
  }
 ],
 "metadata": {
  "kernelspec": {
   "display_name": "Python 3",
   "language": "python",
   "name": "python3"
  },
  "language_info": {
   "codemirror_mode": {
    "name": "ipython",
    "version": 3
   },
   "file_extension": ".py",
   "mimetype": "text/x-python",
   "name": "python",
   "nbconvert_exporter": "python",
   "pygments_lexer": "ipython3",
   "version": "3.9.12"
  }
 },
 "nbformat": 4,
 "nbformat_minor": 0
}
